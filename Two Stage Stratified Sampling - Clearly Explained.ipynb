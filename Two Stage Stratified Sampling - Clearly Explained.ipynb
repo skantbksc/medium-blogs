{
 "cells": [
  {
   "cell_type": "markdown",
   "id": "a2f43f08",
   "metadata": {},
   "source": [
    "# 1. Introduction\n",
    "\n",
    "Large scale surveys conducted by Governments are important tools to get information about the population / economy. These surveys provide important inputs for socio-economic planning. The National Sample Survey Office (NSSO) was set up in 1950 to conduct nationwide surveys. In such large scale surveys, it is common to find stratified sampling process for collecting survey data. Ever wondered what this means? This blog piece is intended to straighten this out with reference to All India Debt and Investment Survey (AIDIS) which uses two stage stratified sampling. So keep reading.\n",
    "\n",
    "The rest of this writeup is structured into five segments:\n",
    "1. What is AIDIS\n",
    "2. What sampling technique is used in AIDIS\n",
    "3. What is stratified sampling\n",
    "4. What is two stage stratified sampling\n",
    "5. Role of multipliers in analysing AIDIS data\n",
    "6. Conclusion"
   ]
  },
  {
   "cell_type": "markdown",
   "id": "c9a5617c",
   "metadata": {},
   "source": [
    "# 2. What is AIDIS?\n",
    "\n",
    "The objectives of the AIDIS is to obtain quantitative information on the stock of assets, incidence of indebtedness, capital formation and other indicators of the rural/urban economy which will be of value in assessing the credit structure of the economy. Further, it can be of help in estimating (i) demand for credit by households and (ii) supply of credit by institutional and non-institutional agents – in order to formulate banking policies. In short, it collects basic quantitative information on assets and liabilities of households.The latest round (77th) of AIDIS was conducted in 2019 in two visits.\n",
    "\n",
    "* Visit 1 - January 2019 to July 2019 (8 months)\n",
    "* Visit 2 - August 2019 to December 2019 (4 months)\n",
    "\n",
    "The reference period for questions asked during 1st and 2nd visit was H2:2018 and H1:2019 respectively.\n",
    "\n",
    "AIDIS conducted by the NSSO is a classic example of stratified sampling technique.  We will understand about this technique using a simple example and extrapolate the idea to understand the more complex AIDIS sampling. "
   ]
  },
  {
   "cell_type": "markdown",
   "id": "cab5f625",
   "metadata": {},
   "source": [
    "# 3. What is stratified sampling?"
   ]
  },
  {
   "attachments": {},
   "cell_type": "markdown",
   "id": "071ee459",
   "metadata": {},
   "source": [
    "The basic idea behind stratified sampling is to divide a heterogeneous population into smaller groups or subpopulations, such that the sampling units are homogeneous with respect to the characteristic under study. These homogeneous groups are collectively called strata. Each group is considered separate and a random sample of predetermined size is drawn from each stratum.\n",
    "\n",
    "### 3.1 Procedure of stratified sampling\n",
    "\n",
    "1. Divide the population of N units into k homogeneuous groups (strata) with each group containing $N_k$ units. Each stratum consists of non-overlapping units which are homogeneous with respect to the characteristic under study such that \n",
    "\n",
    "$$N = \\sum_{i=1}^k N_k$$\n",
    "\n",
    "2. Draw a random sample of size $n_i$ from each stratum independently of other strata.\n",
    "\n",
    "3. All the sampling units drawn from each stratum pooled together constitute a stratified sample of size $n = \\sum_{i=1}^k n_i$\n",
    "\n",
    "<img src=\"Images/Stratified_Sampling.png\" width=\"800\" height=\"400\">\n"
   ]
  },
  {
   "cell_type": "markdown",
   "id": "ebfbcc77",
   "metadata": {},
   "source": [
    "$N$ : Size of Population\n",
    "    \n",
    "$k$ : Number of strata\n",
    "\n",
    "$N_i$ : Number of sampling units in ith strata\n",
    "\n",
    "$ N = \\sum_{i=1}^k N_i $\n",
    "\n",
    "$n_i$ : Number of sampling units to be drawn from ith stratum\n",
    "\n",
    "$ n = \\sum_{i=1}^k n_i $\n"
   ]
  },
  {
   "cell_type": "markdown",
   "id": "73d4403a",
   "metadata": {},
   "source": [
    "### 3.2 Example of Stratified Sampling\n",
    "\n",
    "Let us understand the concept using an example. Suppose we are interested in knowing the average weight of students in a school of class 1 to class 12. The weight of students, in general, varies depending on their age. Younger students will tend to have lower weights as compared to senior students. One way to determine the average weight of students could be to measure the weight of all students and then take the average, however, it is resource intensive and time-taking. It is definitely not feasible when number of students are very large. A random sampling may not provide the best estimate because it may not ensure the right proportion of students from each class. Stratified sampling comes in handy in these situations. One can divide all the students into different classwise strata such as\n",
    "\n",
    "Students of class 1: Stratum 1\n",
    "\n",
    "Students of Class 2: Stratus 2\n",
    "\n",
    "...\n",
    "\n",
    "Students of class 12: Stratum 12\n",
    "\n",
    "Random samples can be drawn from each strata with numbers in same proportion as in entire population. All the drawn samples combined together constitute the final stratified sample.\n",
    "\n",
    "Let us extend the previous example by introducing another level of complexity. What if there are boys and girls in all classes. The weight of girls will in general differ from weight of boys. A random sampling at the class level may not be able to ensure the right proportion of boys and girls as reflected in the population at the class level. This may bias the estimate of average weight. In such a scenario, having a sub-strata at gender level in each class can take us closer to the actual population mean. This still is a single stage stratified sampling as sampling happens only once, only the incidence of sampling has moved to a deeper level in the hierarchical distribution of population i.e. from each class to genders of each class."
   ]
  },
  {
   "cell_type": "markdown",
   "id": "8a34bff2",
   "metadata": {},
   "source": [
    "# 4. What is a two stage stratified sampling?\n",
    "\n",
    "In two stage stratified sampling, sampling occurs twice and at two different levels in the hierarchical distribution of population. To understand this better, lets consider the sampling process for AIDIS survey. The first stage units (FSUs) are villages/blocks depending on rural/urban area. The second stage units (SSUs) are households in both the sectors. The sampling procedure for AIDIS is enumerated below:\n",
    "\n",
    "***Stage 1***\n",
    "1. For sampling purpose, each district is considered as a stratum. Within each district, rural and urban areas are considerd as sub-stratum.\n",
    "\n",
    "2. Within each rural sub-strata, a number of First Stage Units (FSUs) are formed depending on its population such that each FSU has roughly same population between 1000-1200 (as per Census 2011). Within each urban sub-strata too, FSUs are formed such that number of households is roughly equal to 250.\n",
    "\n",
    "3. From each sub-strata in both rural and urban sector within each stratum, required number of FSUs is selected by Simple Random Sampling Without Replacement (SRSWOR) scheme.\n",
    "\n",
    "First stage sampling process is illustrated through the following infographic:\n",
    "\n",
    "<img src=\"Images/AIDIS_Stage1.png\" width=\"800\" height=\"400\">\n"
   ]
  },
  {
   "attachments": {},
   "cell_type": "markdown",
   "id": "a24801a6",
   "metadata": {},
   "source": [
    "***Stage 2***\n",
    "\n",
    "4. Six second stage strata (SSS) are formed in selected FSU of rural/ urban sector considering the MPCE and indebtedness of households.\n",
    "\n",
    "5. All the households of the sample FSU are listed and allocated to one of the six SSS.\n",
    "\n",
    "6. Two sample households from each second stage strata (SSS) are selected by Stratified Random Sampling Without Replacement (SRSWOR).\n",
    "\n",
    "This second stage sampling process is illustrated through the following infographic:\n",
    "\n",
    "<img src=\"Images/AIDIS_Stage2.png\" width=\"800\" height=\"400\">\n",
    "\n",
    "From the above process, it cannot be emphaisised more that sampling happens in two stages:\n",
    "\n",
    "1. **Selection of FSUs:** From all the sub-strata in both rural and urban sector within each stratum, required number of FSUs was selected by Simple Random Sampling Without Replacement (SRSWOR) scheme.\n",
    "\n",
    "$$ MLT_{Stage 1} = \\frac{N}{n} $$\n",
    "\n",
    "where N is the total number of FSUs in any sub-stratum\n",
    "and n is the numbr of sample FSUs surveyed in that particular sub-stratum\n",
    "\n",
    "2. **Selection of households:** The sample households from each second stage strata (SSS) are selected by Stratified Random Sampling Without Replacement (SRSWOR).\n",
    "\n",
    "$$ MLT_{Stage 2} = \\frac{H}{h} $$\n",
    "\n",
    "where H is the total number of households listed in a particular SSS of a selected FSU sample\n",
    "and h is the number of households surveyed in that SSS of that FSU sample\n",
    "\n"
   ]
  },
  {
   "cell_type": "markdown",
   "id": "eb7597c7",
   "metadata": {},
   "source": [
    "# 5. Role of multipliers\n",
    "\n",
    "All the sample households pooled together give us the sample which we see in the survey data. It may be obvious from the above process, that each household in the survey data represents a group of households which have similar characteristics in terms of MPCE and indebtedness. \n",
    "\n",
    "$$\\begin{align}\n",
    "MLT &= MLT_{Stage 1} \\times MLT_{Stage 2} \\\\\n",
    "&= \\frac{N}{n} \\times \\frac{H}{h} \\\\\n",
    "\\end{align}$$\n",
    "\n",
    "The multiplier can be thought of as the approximate number of households each survey entity represents from the population. Therefore an appropriate weight becomes important while aggregating the surey data to derive population attributes. A simple mean/average of survey entities, for instance, will not reflect population mean/average as it gives equal weightage to all the households surveyed. Therefore, weighted average using multiplier as weights becomes necessary in estimation of population mean/average."
   ]
  },
  {
   "cell_type": "markdown",
   "id": "e17bac97",
   "metadata": {},
   "source": [
    "# 6. Conclusion\n",
    "\n",
    "In this blog post, I discussed two stage stratified sampling procedure and illustrated it using a practical use case of All India Debt and Investment Survey. Which other surveys use this sampling technique — feel free to leave your comments below. \n",
    "\n",
    "Before we wind up,\n",
    "\n",
    "I invite you to join me in this exciting data science odyssey. Follow my medium page to explore more exciting content about data science."
   ]
  },
  {
   "cell_type": "markdown",
   "id": "44c0939a",
   "metadata": {},
   "source": [
    "# References\n",
    "\n",
    "1. https://nptel.ac.in/content/storage2/courses/111104073/Module4/Lecture9.pdf\n",
    "2. https://nptel.ac.in/content/storage2/courses/111104073/Module10/Lecture33.pdf"
   ]
  }
 ],
 "metadata": {
  "kernelspec": {
   "display_name": "Python 3 (ipykernel)",
   "language": "python",
   "name": "python3"
  },
  "language_info": {
   "codemirror_mode": {
    "name": "ipython",
    "version": 3
   },
   "file_extension": ".py",
   "mimetype": "text/x-python",
   "name": "python",
   "nbconvert_exporter": "python",
   "pygments_lexer": "ipython3",
   "version": "3.9.7"
  }
 },
 "nbformat": 4,
 "nbformat_minor": 5
}
